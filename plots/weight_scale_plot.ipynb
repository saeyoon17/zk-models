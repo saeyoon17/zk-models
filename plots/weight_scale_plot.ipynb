{
 "cells": [
  {
   "cell_type": "code",
   "execution_count": 1,
   "metadata": {},
   "outputs": [],
   "source": [
    "circom_scale3 = {'acc': 0.6521739130434783, 'prec': 0.765625, 'recall': 0.5975609756097561, 'f1': 0.6712328767123287}\n",
    "circom_scale2 = {'acc': 0.6485507246376812, 'prec': 0.7481481481481481, 'recall': 0.6158536585365854, 'f1': 0.6755852842809364}\n",
    "circom_scale1 = {'acc': 0.6268115942028986, 'prec': 0.8765432098765432, 'recall': 0.4329268292682927, 'f1': 0.5795918367346938}\n",
    "circom_scale0 = {'acc': 0.4057971014492754, 'prec': 0.0, 'recall': 0.0, 'f1': 0.0}"
   ]
  },
  {
   "cell_type": "code",
   "execution_count": null,
   "metadata": {},
   "outputs": [],
   "source": [
    "ezkl_scale0 = {'acc': 0.4057971014492754, 'prec': 0.0, 'recall': 0.0, 'f1': 0.0}\n",
    "ezkl_scale1 = {'acc': 0.4057971014492754, 'prec': 0.0, 'recall': 0.0 ,'f1': 0.0}\n",
    "ezkl_scale2 = {'acc': 0.4057971014492754, 'prec': 0.0, 'recall': 0.0 ,'f1': 0.0}\n",
    "ezkl_scale3 = {'acc': 0.6413043478260869, 'prec': 0.6616915422885572, 'recall': 0.8109756097560976, 'f1': 0.7287671232876712}\n",
    "ezkl_scale4 = {'acc': 0.6304347826086957, 'prec': 0.7719298245614035, 'recall': 0.5365853658536586, 'f1': 0.6330935251798562}\n",
    "ezkl_scale5 = {'acc': 0.6521739130434783, 'prec': 0.7741935483870968, 'recall': 0.5853658536585366, 'f1': 0.6666666666666666}\n"
   ]
  }
 ],
 "metadata": {
  "kernelspec": {
   "display_name": "Python 3",
   "language": "python",
   "name": "python3"
  },
  "language_info": {
   "codemirror_mode": {
    "name": "ipython",
    "version": 3
   },
   "file_extension": ".py",
   "mimetype": "text/x-python",
   "name": "python",
   "nbconvert_exporter": "python",
   "pygments_lexer": "ipython3",
   "version": "3.11.3"
  },
  "orig_nbformat": 4
 },
 "nbformat": 4,
 "nbformat_minor": 2
}
