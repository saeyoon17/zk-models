{
 "cells": [
  {
   "cell_type": "code",
   "execution_count": 4,
   "metadata": {},
   "outputs": [],
   "source": [
    "import json\n",
    "import torch"
   ]
  },
  {
   "cell_type": "code",
   "execution_count": null,
   "metadata": {},
   "outputs": [],
   "source": [
    "### Observing witness file of ezkl"
   ]
  },
  {
   "cell_type": "code",
   "execution_count": 27,
   "metadata": {},
   "outputs": [],
   "source": [
    "file_path = \"./witness.json\"\n",
    "\n",
    "with open(file_path, 'r') as file:\n",
    "    data = json.load(file)\n",
    "\n",
    "file_path = \"./input.json\"\n",
    "\n",
    "with open(file_path, 'r') as file:\n",
    "    input_data = json.load(file)"
   ]
  },
  {
   "cell_type": "code",
   "execution_count": 9,
   "metadata": {},
   "outputs": [
    {
     "data": {
      "text/plain": [
       "dict_keys(['inputs', 'pretty_elements', 'outputs', 'processed_inputs', 'processed_params', 'processed_outputs', 'max_lookup_inputs', 'min_lookup_inputs'])"
      ]
     },
     "execution_count": 9,
     "metadata": {},
     "output_type": "execute_result"
    }
   ],
   "source": [
    "data.keys()"
   ]
  },
  {
   "cell_type": "code",
   "execution_count": 11,
   "metadata": {},
   "outputs": [],
   "source": [
    "tmp = torch.tensor(data['processed_inputs'], dtype=torch.float)"
   ]
  },
  {
   "cell_type": "code",
   "execution_count": 13,
   "metadata": {},
   "outputs": [
    {
     "data": {
      "text/plain": [
       "torch.Size([64, 18, 4])"
      ]
     },
     "execution_count": 13,
     "metadata": {},
     "output_type": "execute_result"
    }
   ],
   "source": [
    "tmp.squeeze().reshape(64, -1, 4).size()"
   ]
  },
  {
   "cell_type": "code",
   "execution_count": 14,
   "metadata": {},
   "outputs": [],
   "source": [
    "# Observing the real output and ezkl proving output"
   ]
  },
  {
   "cell_type": "code",
   "execution_count": 20,
   "metadata": {},
   "outputs": [],
   "source": [
    "tmp_scaled_output = data['pretty_elements']['rescaled_outputs']"
   ]
  },
  {
   "cell_type": "code",
   "execution_count": 23,
   "metadata": {},
   "outputs": [
    {
     "data": {
      "text/plain": [
       "128"
      ]
     },
     "execution_count": 23,
     "metadata": {},
     "output_type": "execute_result"
    }
   ],
   "source": [
    "len(tmp_scaled_output[0])"
   ]
  },
  {
   "cell_type": "code",
   "execution_count": 24,
   "metadata": {},
   "outputs": [],
   "source": [
    "scaled_torch = []\n",
    "for e in tmp_scaled_output[0]:\n",
    "    scaled_torch.append(float(e))"
   ]
  },
  {
   "cell_type": "code",
   "execution_count": 26,
   "metadata": {},
   "outputs": [
    {
     "data": {
      "text/plain": [
       "tensor([[  531.5975,  -466.3430],\n",
       "        [ -466.3927,   484.5262],\n",
       "        [  251.0198,  -209.5856],\n",
       "        [  -23.9786,    88.1317],\n",
       "        [  357.1210,  -315.1340],\n",
       "        [  253.9954,  -204.2711],\n",
       "        [ 1023.1600,  -983.2219],\n",
       "        [ -150.4747,   151.2000],\n",
       "        [  916.7460,  -858.3000],\n",
       "        [   70.1880,    -3.6062],\n",
       "        [  197.2792,  -149.1027],\n",
       "        [  121.8296,  -121.3054],\n",
       "        [  599.9914,  -568.9768],\n",
       "        [  212.4165,  -147.1960],\n",
       "        [  467.4456,  -471.8844],\n",
       "        [  124.4979,  -127.9836],\n",
       "        [  -31.0694,    33.9383],\n",
       "        [  106.3163,   -27.6183],\n",
       "        [ -424.9962,   481.2820],\n",
       "        [  157.5722,  -162.8332],\n",
       "        [  116.0097,   -60.4875],\n",
       "        [ -255.7560,   258.7332],\n",
       "        [  655.2323,  -595.0519],\n",
       "        [  151.4156,  -162.2912],\n",
       "        [   64.3739,    -5.1613],\n",
       "        [ -443.9727,   451.7313],\n",
       "        [  760.7899,  -702.4973],\n",
       "        [ -454.8171,   516.4046],\n",
       "        [  257.4244,  -207.5007],\n",
       "        [   87.3788,   -87.0266],\n",
       "        [  -23.6896,    24.6629],\n",
       "        [  101.4000,   -27.8380],\n",
       "        [  537.9940,  -484.0910],\n",
       "        [  613.7225,  -562.1887],\n",
       "        [  -56.5665,   142.8074],\n",
       "        [   86.5116,    -7.6633],\n",
       "        [  486.0978,  -490.0940],\n",
       "        [ -188.9255,   256.9437],\n",
       "        [  151.3346,   -91.8615],\n",
       "        [  927.7577,  -867.9758],\n",
       "        [  187.4550,  -112.1789],\n",
       "        [  576.0585,  -508.1359],\n",
       "        [ -213.7488,   216.6970],\n",
       "        [ -347.3067,   353.0555],\n",
       "        [ -128.8888,   135.2332],\n",
       "        [ -180.6075,   183.5574],\n",
       "        [  359.6770,  -302.6598],\n",
       "        [  805.1093,  -734.4758],\n",
       "        [ -212.7179,   275.3817],\n",
       "        [  287.7597,  -216.0090],\n",
       "        [ 1108.4100, -1075.5032],\n",
       "        [  -50.8478,    34.1356],\n",
       "        [ -255.2706,   316.5809],\n",
       "        [  608.3365,  -614.8952],\n",
       "        [  188.0520,  -130.7731],\n",
       "        [ -152.9103,   233.3992],\n",
       "        [ 1191.2811, -1144.3020],\n",
       "        [  183.0956,  -112.8078],\n",
       "        [  579.8905,  -447.7238],\n",
       "        [    6.7694,    -9.6301],\n",
       "        [  989.3241,  -930.3293],\n",
       "        [  176.0009,   -96.8293],\n",
       "        [  850.1581,  -788.5500],\n",
       "        [  119.1356,   -71.9289]])"
      ]
     },
     "execution_count": 26,
     "metadata": {},
     "output_type": "execute_result"
    }
   ],
   "source": [
    "torch.tensor(scaled_torch).reshape(64, -1)"
   ]
  },
  {
   "cell_type": "code",
   "execution_count": 31,
   "metadata": {},
   "outputs": [
    {
     "data": {
      "text/plain": [
       "tensor([[  531.4933,  -466.7333],\n",
       "        [ -466.5266,   484.3840],\n",
       "        [  250.9402,  -209.9619],\n",
       "        [  -24.0889,    87.7440],\n",
       "        [  357.0098,  -315.4550],\n",
       "        [  253.9277,  -204.6793],\n",
       "        [ 1023.0245,  -983.5421],\n",
       "        [ -150.5945,   151.0602],\n",
       "        [  916.6193,  -858.7005],\n",
       "        [   70.0429,    -3.9891],\n",
       "        [  197.1843,  -149.3981],\n",
       "        [  121.6569,  -121.4229],\n",
       "        [  599.7640,  -569.1971],\n",
       "        [  212.2853,  -147.5518],\n",
       "        [  467.3438,  -472.0576],\n",
       "        [  124.3520,  -128.1227],\n",
       "        [  -31.2005,    33.8008],\n",
       "        [  106.2118,   -27.9703],\n",
       "        [ -425.0590,   480.9421],\n",
       "        [  157.4293,  -162.9881],\n",
       "        [  115.9249,   -60.7839],\n",
       "        [ -255.8848,   258.5833],\n",
       "        [  655.1151,  -595.3918],\n",
       "        [  151.3523,  -162.5112],\n",
       "        [   64.2956,    -5.5560],\n",
       "        [ -444.0678,   451.6077],\n",
       "        [  760.6506,  -702.8897],\n",
       "        [ -454.8622,   516.0195],\n",
       "        [  257.2981,  -207.8403],\n",
       "        [   87.2293,   -87.1884],\n",
       "        [  -23.8161,    24.5256],\n",
       "        [  101.3899,   -28.3234],\n",
       "        [  537.8718,  -484.4661],\n",
       "        [  613.6055,  -562.5599],\n",
       "        [  -56.6328,   142.4142],\n",
       "        [   86.4241,    -8.1088],\n",
       "        [  485.8972,  -490.1370],\n",
       "        [ -188.9398,   256.4866],\n",
       "        [  151.3014,   -92.3255],\n",
       "        [  927.6413,  -868.3770],\n",
       "        [  187.3472,  -112.5534],\n",
       "        [  575.9314,  -508.5535],\n",
       "        [ -213.9463,   216.6130],\n",
       "        [ -347.4232,   352.9238],\n",
       "        [ -128.9989,   135.1071],\n",
       "        [ -180.7339,   183.4032],\n",
       "        [  359.5983,  -303.0835],\n",
       "        [  804.9904,  -734.8925],\n",
       "        [ -212.8003,   275.0546],\n",
       "        [  287.6581,  -216.4409],\n",
       "        [ 1108.2625, -1075.8092],\n",
       "        [  -50.9651,    34.0045],\n",
       "        [ -255.3473,   316.2608],\n",
       "        [  608.1248,  -615.0151],\n",
       "        [  187.9964,  -131.1475],\n",
       "        [ -152.9792,   232.9688],\n",
       "        [ 1191.1495, -1144.6611],\n",
       "        [  183.0451,  -113.1340],\n",
       "        [  579.8376,  -448.3246],\n",
       "        [    6.6547,    -9.7600],\n",
       "        [  989.1741,  -930.7062],\n",
       "        [  175.9401,   -97.2126],\n",
       "        [  850.0368,  -788.9272],\n",
       "        [  119.0248,   -72.2451]])"
      ]
     },
     "execution_count": 31,
     "metadata": {},
     "output_type": "execute_result"
    }
   ],
   "source": [
    "torch.tensor(input_data['output_data']).reshape(64, -1)"
   ]
  },
  {
   "cell_type": "code",
   "execution_count": null,
   "metadata": {},
   "outputs": [],
   "source": []
  }
 ],
 "metadata": {
  "kernelspec": {
   "display_name": "Python 3",
   "language": "python",
   "name": "python3"
  },
  "language_info": {
   "codemirror_mode": {
    "name": "ipython",
    "version": 3
   },
   "file_extension": ".py",
   "mimetype": "text/x-python",
   "name": "python",
   "nbconvert_exporter": "python",
   "pygments_lexer": "ipython3",
   "version": "3.11.3"
  },
  "orig_nbformat": 4
 },
 "nbformat": 4,
 "nbformat_minor": 2
}
